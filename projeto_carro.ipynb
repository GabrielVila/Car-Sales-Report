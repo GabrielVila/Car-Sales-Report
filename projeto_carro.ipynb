{
  "cells": [
    {
      "cell_type": "markdown",
      "metadata": {
        "id": "1kRmD5BTMVhx"
      },
      "source": [
        "Introdução: Explorando Tendências no Mercado Automotivo\n",
        "\n",
        "O mercado automotivo é um setor dinâmico e em constante evolução, onde as preferências dos consumidores, as inovações tecnológicas e os padrões econômicos desempenham papéis cruciais na determinação das tendências de venda e no sucesso das empresas. Com um vasto conjunto de dados à nossa disposição, propomos uma análise abrangente para desvendar os padrões subjacentes e as dinâmicas do mercado de carros.\n",
        "\n",
        "Nossa análise visa oferecer uma visão panorâmica, abordando uma variedade de aspectos, desde o perfil demográfico dos compradores até a influência de diferentes atributos do veículo no comportamento do consumidor. Ao mergulhar nas camadas de dados disponíveis, buscamos identificar correlações significativas, tendências emergentes e insights valiosos que possam informar estratégias de negócios e tomadas de decisão fundamentadas.\n",
        "\n",
        "Ao compreender as nuances do mercado automotivo, esperamos fornecer informações cruciais não apenas para fabricantes e revendedores de automóveis, mas também para consumidores que buscam tomar decisões informadas de compra. Nossa análise pretende ser uma ferramenta poderosa para orientar estratégias de marketing, desenvolvimento de produtos e expansão de mercado, capacitando as empresas a se adaptarem às demandas em constante mudança do setor automotivo.\n",
        "\n",
        "Nesta jornada de exploração de dados, estamos ansiosos para desvendar os segredos por trás das tendências do mercado automotivo e oferecer insights valiosos que possam impulsionar o sucesso e a inovação neste setor crucial da economia global.\n",
        "\n",
        "\n",
        "\n",
        "\n"
      ]
    },
    {
      "cell_type": "markdown",
      "metadata": {
        "id": "seF-VaLUMawh"
      },
      "source": [
        "**1. Análise de Vendas por Região do Revendedor:** Você pode agrupar os dados pelo \"Dealer_Region\" e analisar as vendas totais ou médias em cada região.\n",
        "\n",
        "**2. Segmentação de Clientes por Gênero e Renda Anual:** Explore a distribuição de gênero entre os clientes e como ela se relaciona com a renda anual. Isso pode ajudar a identificar padrões de compra entre diferentes grupos demográficos.\n",
        "\n",
        "**3. Preço Médio por Modelo de Carro:** Analise o preço médio de venda para cada modelo de carro. Isso pode ajudar a identificar quais modelos têm maior demanda ou valor de mercado.\n",
        "\n",
        "**4. Distribuição de Cores de Carros Vendidos:** Determine as cores mais populares entre os carros vendidos. Isso pode ser útil para entender as preferências dos clientes em termos de estética.\n",
        "\n",
        "**5. Análise Temporal de Vendas:** Explore padrões sazonais ou tendências ao longo do tempo analisando as vendas em relação à data.\n",
        "\n",
        "**6. Desempenho de Revendedores:** Compare o desempenho de diferentes revendedores em termos de número de vendas, receita gerada ou satisfação do cliente.\n",
        "\n",
        "**7. Análise de Correlação:** Explore se existe alguma correlação entre variáveis, como preço do carro e renda anual do cliente.\n",
        "\n",
        "**8. Distribuição de Estilos de Carro Vendidos:** Analise a distribuição dos estilos de carro vendidos (por exemplo, sedan, SUV, hatchback) para entender as preferências do mercado.\n",
        "\n",
        "**9. Análise de Engenharia e Transmissão por Modelo:** Veja se há alguma preferência específica de engenharia (por exemplo, motor de 4 cilindros, 6 cilindros) ou tipo de transmissão (automático, manual) para cada modelo de carro.\n",
        "\n",
        "**10. Análise de Satisfação do Cliente:** Explore a relação entre o nome do cliente, o revendedor e possivelmente outras variáveis para entender os níveis de satisfação do cliente e identificar áreas para melhoria.\n",
        "\n",
        "**11. Análise de Distribuição de Idade dos Clientes:** Se houver informações sobre a idade dos clientes, você pode analisar a distribuição etária dos compradores de carros.\n",
        "\n",
        "**12. Variação de Preço por Cor e Estilo do Carro:** Analise se há variação de preço com base na cor ou estilo do carro. Isso pode ajudar a determinar se certas características têm impacto no valor de mercado.\n",
        "\n",
        "**13. Análise de Demanda por Região e Estilo do Carro:** Explore se a demanda por diferentes estilos de carro varia entre as regiões dos revendedores.\n",
        "\n",
        "**14. Análise de Desempenho do Modelo de Carro ao Longo do Tempo:** Analise como o desempenho de vendas de um determinado modelo de carro evolui ao longo do tempo desde o seu lançamento.\n",
        "\n",
        "**15. Análise de Engajamento do Cliente com o Revendedor:** Explore a frequência de compra ou interação dos clientes com os revendedores ao longo do tempo.\n",
        "\n",
        "**16. Análise de Sazonalidade nas Vendas de Carros:** Identifique padrões sazonais nas vendas de carros, como picos de vendas durante determinadas épocas do ano.\n",
        "\n",
        "**17. Análise de Lucratividade por Modelo de Carro e Revendedor:** Determine quais modelos de carro e revendedores são mais lucrativos com base nas margens de lucro.\n",
        "\n",
        "**18. Análise de Preferências de Transmissão por Gênero:** Explore se há diferenças nas preferências de transmissão entre clientes de diferentes gêneros.\n",
        "\n",
        "**19. Análise de Lealdade do Cliente:** Analise se os clientes tendem a comprar repetidamente da mesma marca ou revendedor ao longo do tempo.\n",
        "\n",
        "**20. Análise de Correlação entre Características do Carro e Preço:** Investigação de possíveis correlações entre características específicas do carro, como tamanho do motor, tipo de transmissão ou cor, e o preço de venda."
      ]
    },
    {
      "cell_type": "code",
      "execution_count": 2,
      "metadata": {
        "id": "4oesCvkwv8s3"
      },
      "outputs": [],
      "source": [
        "# importação das bibliotecas\n",
        "import pandas as pd\n",
        "import numpy as np\n",
        "import seaborn as sns\n",
        "import matplotlib.pyplot as plt"
      ]
    },
    {
      "cell_type": "code",
      "execution_count": 64,
      "metadata": {
        "id": "GOJrHwrm99hO"
      },
      "outputs": [],
      "source": [
        "# Leitura do dataset\n",
        "dados = pd.read_csv('Car Sales.csv')"
      ]
    },
    {
      "cell_type": "code",
      "execution_count": 5,
      "metadata": {
        "colab": {
          "base_uri": "https://localhost:8080/",
          "height": 687
        },
        "id": "hPjTThvWNaOX",
        "outputId": "669caf9c-1d2d-47c3-a306-e27809c14191"
      },
      "outputs": [
        {
          "data": {
            "text/html": [
              "<div>\n",
              "<style scoped>\n",
              "    .dataframe tbody tr th:only-of-type {\n",
              "        vertical-align: middle;\n",
              "    }\n",
              "\n",
              "    .dataframe tbody tr th {\n",
              "        vertical-align: top;\n",
              "    }\n",
              "\n",
              "    .dataframe thead th {\n",
              "        text-align: right;\n",
              "    }\n",
              "</style>\n",
              "<table border=\"1\" class=\"dataframe\">\n",
              "  <thead>\n",
              "    <tr style=\"text-align: right;\">\n",
              "      <th></th>\n",
              "      <th>Car_id</th>\n",
              "      <th>Date</th>\n",
              "      <th>Customer Name</th>\n",
              "      <th>Gender</th>\n",
              "      <th>Annual Income</th>\n",
              "      <th>Dealer_Name</th>\n",
              "      <th>Company</th>\n",
              "      <th>Model</th>\n",
              "      <th>Engine</th>\n",
              "      <th>Transmission</th>\n",
              "      <th>Color</th>\n",
              "      <th>Price ($)</th>\n",
              "      <th>Dealer_No</th>\n",
              "      <th>Body Style</th>\n",
              "      <th>Phone</th>\n",
              "      <th>Dealer_Region</th>\n",
              "    </tr>\n",
              "  </thead>\n",
              "  <tbody>\n",
              "    <tr>\n",
              "      <th>0</th>\n",
              "      <td>C_CND_000001</td>\n",
              "      <td>1/2/2022</td>\n",
              "      <td>Geraldine</td>\n",
              "      <td>Male</td>\n",
              "      <td>13500</td>\n",
              "      <td>Buddy Storbeck's Diesel Service Inc</td>\n",
              "      <td>Ford</td>\n",
              "      <td>Expedition</td>\n",
              "      <td>DoubleÂ Overhead Camshaft</td>\n",
              "      <td>Auto</td>\n",
              "      <td>Black</td>\n",
              "      <td>26000</td>\n",
              "      <td>06457-3834</td>\n",
              "      <td>SUV</td>\n",
              "      <td>8264678</td>\n",
              "      <td>Middletown</td>\n",
              "    </tr>\n",
              "    <tr>\n",
              "      <th>1</th>\n",
              "      <td>C_CND_000002</td>\n",
              "      <td>1/2/2022</td>\n",
              "      <td>Gia</td>\n",
              "      <td>Male</td>\n",
              "      <td>1480000</td>\n",
              "      <td>C &amp; M Motors Inc</td>\n",
              "      <td>Dodge</td>\n",
              "      <td>Durango</td>\n",
              "      <td>DoubleÂ Overhead Camshaft</td>\n",
              "      <td>Auto</td>\n",
              "      <td>Black</td>\n",
              "      <td>19000</td>\n",
              "      <td>60504-7114</td>\n",
              "      <td>SUV</td>\n",
              "      <td>6848189</td>\n",
              "      <td>Aurora</td>\n",
              "    </tr>\n",
              "    <tr>\n",
              "      <th>2</th>\n",
              "      <td>C_CND_000003</td>\n",
              "      <td>1/2/2022</td>\n",
              "      <td>Gianna</td>\n",
              "      <td>Male</td>\n",
              "      <td>1035000</td>\n",
              "      <td>Capitol KIA</td>\n",
              "      <td>Cadillac</td>\n",
              "      <td>Eldorado</td>\n",
              "      <td>Overhead Camshaft</td>\n",
              "      <td>Manual</td>\n",
              "      <td>Red</td>\n",
              "      <td>31500</td>\n",
              "      <td>38701-8047</td>\n",
              "      <td>Passenger</td>\n",
              "      <td>7298798</td>\n",
              "      <td>Greenville</td>\n",
              "    </tr>\n",
              "    <tr>\n",
              "      <th>3</th>\n",
              "      <td>C_CND_000004</td>\n",
              "      <td>1/2/2022</td>\n",
              "      <td>Giselle</td>\n",
              "      <td>Male</td>\n",
              "      <td>13500</td>\n",
              "      <td>Chrysler of Tri-Cities</td>\n",
              "      <td>Toyota</td>\n",
              "      <td>Celica</td>\n",
              "      <td>Overhead Camshaft</td>\n",
              "      <td>Manual</td>\n",
              "      <td>Pale White</td>\n",
              "      <td>14000</td>\n",
              "      <td>99301-3882</td>\n",
              "      <td>SUV</td>\n",
              "      <td>6257557</td>\n",
              "      <td>Pasco</td>\n",
              "    </tr>\n",
              "    <tr>\n",
              "      <th>4</th>\n",
              "      <td>C_CND_000005</td>\n",
              "      <td>1/2/2022</td>\n",
              "      <td>Grace</td>\n",
              "      <td>Male</td>\n",
              "      <td>1465000</td>\n",
              "      <td>Chrysler Plymouth</td>\n",
              "      <td>Acura</td>\n",
              "      <td>TL</td>\n",
              "      <td>DoubleÂ Overhead Camshaft</td>\n",
              "      <td>Auto</td>\n",
              "      <td>Red</td>\n",
              "      <td>24500</td>\n",
              "      <td>53546-9427</td>\n",
              "      <td>Hatchback</td>\n",
              "      <td>7081483</td>\n",
              "      <td>Janesville</td>\n",
              "    </tr>\n",
              "    <tr>\n",
              "      <th>...</th>\n",
              "      <td>...</td>\n",
              "      <td>...</td>\n",
              "      <td>...</td>\n",
              "      <td>...</td>\n",
              "      <td>...</td>\n",
              "      <td>...</td>\n",
              "      <td>...</td>\n",
              "      <td>...</td>\n",
              "      <td>...</td>\n",
              "      <td>...</td>\n",
              "      <td>...</td>\n",
              "      <td>...</td>\n",
              "      <td>...</td>\n",
              "      <td>...</td>\n",
              "      <td>...</td>\n",
              "      <td>...</td>\n",
              "    </tr>\n",
              "    <tr>\n",
              "      <th>23901</th>\n",
              "      <td>C_CND_023902</td>\n",
              "      <td>12/31/2023</td>\n",
              "      <td>Martin</td>\n",
              "      <td>Male</td>\n",
              "      <td>13500</td>\n",
              "      <td>C &amp; M Motors Inc</td>\n",
              "      <td>Plymouth</td>\n",
              "      <td>Voyager</td>\n",
              "      <td>Overhead Camshaft</td>\n",
              "      <td>Manual</td>\n",
              "      <td>Red</td>\n",
              "      <td>12000</td>\n",
              "      <td>60504-7114</td>\n",
              "      <td>Passenger</td>\n",
              "      <td>8583598</td>\n",
              "      <td>Pasco</td>\n",
              "    </tr>\n",
              "    <tr>\n",
              "      <th>23902</th>\n",
              "      <td>C_CND_023903</td>\n",
              "      <td>12/31/2023</td>\n",
              "      <td>Jimmy</td>\n",
              "      <td>Female</td>\n",
              "      <td>900000</td>\n",
              "      <td>Ryder Truck Rental and Leasing</td>\n",
              "      <td>Chevrolet</td>\n",
              "      <td>Prizm</td>\n",
              "      <td>DoubleÂ Overhead Camshaft</td>\n",
              "      <td>Auto</td>\n",
              "      <td>Black</td>\n",
              "      <td>16000</td>\n",
              "      <td>06457-3834</td>\n",
              "      <td>Hardtop</td>\n",
              "      <td>7914229</td>\n",
              "      <td>Middletown</td>\n",
              "    </tr>\n",
              "    <tr>\n",
              "      <th>23903</th>\n",
              "      <td>C_CND_023904</td>\n",
              "      <td>12/31/2023</td>\n",
              "      <td>Emma</td>\n",
              "      <td>Male</td>\n",
              "      <td>705000</td>\n",
              "      <td>Chrysler of Tri-Cities</td>\n",
              "      <td>BMW</td>\n",
              "      <td>328i</td>\n",
              "      <td>Overhead Camshaft</td>\n",
              "      <td>Manual</td>\n",
              "      <td>Red</td>\n",
              "      <td>21000</td>\n",
              "      <td>99301-3882</td>\n",
              "      <td>Sedan</td>\n",
              "      <td>7659127</td>\n",
              "      <td>Scottsdale</td>\n",
              "    </tr>\n",
              "    <tr>\n",
              "      <th>23904</th>\n",
              "      <td>C_CND_023905</td>\n",
              "      <td>12/31/2023</td>\n",
              "      <td>Victoire</td>\n",
              "      <td>Male</td>\n",
              "      <td>13500</td>\n",
              "      <td>Chrysler Plymouth</td>\n",
              "      <td>Chevrolet</td>\n",
              "      <td>Metro</td>\n",
              "      <td>DoubleÂ Overhead Camshaft</td>\n",
              "      <td>Auto</td>\n",
              "      <td>Black</td>\n",
              "      <td>31000</td>\n",
              "      <td>53546-9427</td>\n",
              "      <td>Passenger</td>\n",
              "      <td>6030764</td>\n",
              "      <td>Austin</td>\n",
              "    </tr>\n",
              "    <tr>\n",
              "      <th>23905</th>\n",
              "      <td>C_CND_023906</td>\n",
              "      <td>12/31/2023</td>\n",
              "      <td>Donovan</td>\n",
              "      <td>Male</td>\n",
              "      <td>1225000</td>\n",
              "      <td>Pars Auto Sales</td>\n",
              "      <td>Lexus</td>\n",
              "      <td>ES300</td>\n",
              "      <td>DoubleÂ Overhead Camshaft</td>\n",
              "      <td>Auto</td>\n",
              "      <td>Pale White</td>\n",
              "      <td>27500</td>\n",
              "      <td>38701-8047</td>\n",
              "      <td>Hardtop</td>\n",
              "      <td>7020564</td>\n",
              "      <td>Middletown</td>\n",
              "    </tr>\n",
              "  </tbody>\n",
              "</table>\n",
              "<p>23906 rows × 16 columns</p>\n",
              "</div>"
            ],
            "text/plain": [
              "             Car_id        Date Customer Name  Gender  Annual Income  \\\n",
              "0      C_CND_000001    1/2/2022     Geraldine    Male          13500   \n",
              "1      C_CND_000002    1/2/2022           Gia    Male        1480000   \n",
              "2      C_CND_000003    1/2/2022        Gianna    Male        1035000   \n",
              "3      C_CND_000004    1/2/2022       Giselle    Male          13500   \n",
              "4      C_CND_000005    1/2/2022         Grace    Male        1465000   \n",
              "...             ...         ...           ...     ...            ...   \n",
              "23901  C_CND_023902  12/31/2023        Martin    Male          13500   \n",
              "23902  C_CND_023903  12/31/2023         Jimmy  Female         900000   \n",
              "23903  C_CND_023904  12/31/2023          Emma    Male         705000   \n",
              "23904  C_CND_023905  12/31/2023      Victoire    Male          13500   \n",
              "23905  C_CND_023906  12/31/2023       Donovan    Male        1225000   \n",
              "\n",
              "                               Dealer_Name    Company       Model  \\\n",
              "0      Buddy Storbeck's Diesel Service Inc       Ford  Expedition   \n",
              "1                         C & M Motors Inc      Dodge     Durango   \n",
              "2                              Capitol KIA   Cadillac    Eldorado   \n",
              "3                   Chrysler of Tri-Cities     Toyota      Celica   \n",
              "4                        Chrysler Plymouth      Acura          TL   \n",
              "...                                    ...        ...         ...   \n",
              "23901                     C & M Motors Inc   Plymouth     Voyager   \n",
              "23902       Ryder Truck Rental and Leasing  Chevrolet       Prizm   \n",
              "23903               Chrysler of Tri-Cities        BMW        328i   \n",
              "23904                    Chrysler Plymouth  Chevrolet       Metro   \n",
              "23905                      Pars Auto Sales      Lexus       ES300   \n",
              "\n",
              "                          Engine Transmission       Color  Price ($)  \\\n",
              "0      DoubleÂ Overhead Camshaft         Auto       Black      26000   \n",
              "1      DoubleÂ Overhead Camshaft         Auto       Black      19000   \n",
              "2              Overhead Camshaft       Manual         Red      31500   \n",
              "3              Overhead Camshaft       Manual  Pale White      14000   \n",
              "4      DoubleÂ Overhead Camshaft         Auto         Red      24500   \n",
              "...                          ...          ...         ...        ...   \n",
              "23901          Overhead Camshaft       Manual         Red      12000   \n",
              "23902  DoubleÂ Overhead Camshaft         Auto       Black      16000   \n",
              "23903          Overhead Camshaft       Manual         Red      21000   \n",
              "23904  DoubleÂ Overhead Camshaft         Auto       Black      31000   \n",
              "23905  DoubleÂ Overhead Camshaft         Auto  Pale White      27500   \n",
              "\n",
              "       Dealer_No  Body Style    Phone Dealer_Region  \n",
              "0      06457-3834        SUV  8264678    Middletown  \n",
              "1      60504-7114        SUV  6848189        Aurora  \n",
              "2      38701-8047  Passenger  7298798    Greenville  \n",
              "3      99301-3882        SUV  6257557         Pasco  \n",
              "4      53546-9427  Hatchback  7081483    Janesville  \n",
              "...           ...        ...      ...           ...  \n",
              "23901  60504-7114  Passenger  8583598         Pasco  \n",
              "23902  06457-3834    Hardtop  7914229    Middletown  \n",
              "23903  99301-3882      Sedan  7659127    Scottsdale  \n",
              "23904  53546-9427  Passenger  6030764        Austin  \n",
              "23905  38701-8047    Hardtop  7020564    Middletown  \n",
              "\n",
              "[23906 rows x 16 columns]"
            ]
          },
          "execution_count": 5,
          "metadata": {},
          "output_type": "execute_result"
        }
      ],
      "source": [
        "# Visualização dos dados\n",
        "dados"
      ]
    },
    {
      "cell_type": "code",
      "execution_count": 6,
      "metadata": {
        "colab": {
          "base_uri": "https://localhost:8080/"
        },
        "id": "1IiK_LRRN7BI",
        "outputId": "6f50c47d-eac5-4616-d365-b3c4a4cbd0ef"
      },
      "outputs": [
        {
          "name": "stdout",
          "output_type": "stream",
          "text": [
            "<class 'pandas.core.frame.DataFrame'>\n",
            "RangeIndex: 23906 entries, 0 to 23905\n",
            "Data columns (total 16 columns):\n",
            " #   Column         Non-Null Count  Dtype \n",
            "---  ------         --------------  ----- \n",
            " 0   Car_id         23906 non-null  object\n",
            " 1   Date           23906 non-null  object\n",
            " 2   Customer Name  23905 non-null  object\n",
            " 3   Gender         23906 non-null  object\n",
            " 4   Annual Income  23906 non-null  int64 \n",
            " 5   Dealer_Name    23906 non-null  object\n",
            " 6   Company        23906 non-null  object\n",
            " 7   Model          23906 non-null  object\n",
            " 8   Engine         23906 non-null  object\n",
            " 9   Transmission   23906 non-null  object\n",
            " 10  Color          23906 non-null  object\n",
            " 11  Price ($)      23906 non-null  int64 \n",
            " 12  Dealer_No      23906 non-null  object\n",
            " 13  Body Style     23906 non-null  object\n",
            " 14  Phone          23906 non-null  int64 \n",
            " 15  Dealer_Region  23906 non-null  object\n",
            "dtypes: int64(3), object(13)\n",
            "memory usage: 2.9+ MB\n"
          ]
        }
      ],
      "source": [
        "dados.info()"
      ]
    },
    {
      "cell_type": "code",
      "execution_count": 7,
      "metadata": {
        "colab": {
          "base_uri": "https://localhost:8080/",
          "height": 300
        },
        "id": "9uy77ad_Lmhm",
        "outputId": "08afc3fd-552d-46a0-9d49-6bf6239aaac8"
      },
      "outputs": [
        {
          "data": {
            "text/html": [
              "<div>\n",
              "<style scoped>\n",
              "    .dataframe tbody tr th:only-of-type {\n",
              "        vertical-align: middle;\n",
              "    }\n",
              "\n",
              "    .dataframe tbody tr th {\n",
              "        vertical-align: top;\n",
              "    }\n",
              "\n",
              "    .dataframe thead th {\n",
              "        text-align: right;\n",
              "    }\n",
              "</style>\n",
              "<table border=\"1\" class=\"dataframe\">\n",
              "  <thead>\n",
              "    <tr style=\"text-align: right;\">\n",
              "      <th></th>\n",
              "      <th>Annual Income</th>\n",
              "      <th>Price ($)</th>\n",
              "      <th>Phone</th>\n",
              "    </tr>\n",
              "  </thead>\n",
              "  <tbody>\n",
              "    <tr>\n",
              "      <th>count</th>\n",
              "      <td>2.390600e+04</td>\n",
              "      <td>23906.000000</td>\n",
              "      <td>2.390600e+04</td>\n",
              "    </tr>\n",
              "    <tr>\n",
              "      <th>mean</th>\n",
              "      <td>8.308403e+05</td>\n",
              "      <td>28090.247846</td>\n",
              "      <td>7.497741e+06</td>\n",
              "    </tr>\n",
              "    <tr>\n",
              "      <th>std</th>\n",
              "      <td>7.200064e+05</td>\n",
              "      <td>14788.687608</td>\n",
              "      <td>8.674920e+05</td>\n",
              "    </tr>\n",
              "    <tr>\n",
              "      <th>min</th>\n",
              "      <td>1.008000e+04</td>\n",
              "      <td>1200.000000</td>\n",
              "      <td>6.000101e+06</td>\n",
              "    </tr>\n",
              "    <tr>\n",
              "      <th>25%</th>\n",
              "      <td>3.860000e+05</td>\n",
              "      <td>18001.000000</td>\n",
              "      <td>6.746495e+06</td>\n",
              "    </tr>\n",
              "    <tr>\n",
              "      <th>50%</th>\n",
              "      <td>7.350000e+05</td>\n",
              "      <td>23000.000000</td>\n",
              "      <td>7.496198e+06</td>\n",
              "    </tr>\n",
              "    <tr>\n",
              "      <th>75%</th>\n",
              "      <td>1.175750e+06</td>\n",
              "      <td>34000.000000</td>\n",
              "      <td>8.248146e+06</td>\n",
              "    </tr>\n",
              "    <tr>\n",
              "      <th>max</th>\n",
              "      <td>1.120000e+07</td>\n",
              "      <td>85800.000000</td>\n",
              "      <td>8.999579e+06</td>\n",
              "    </tr>\n",
              "  </tbody>\n",
              "</table>\n",
              "</div>"
            ],
            "text/plain": [
              "       Annual Income     Price ($)         Phone\n",
              "count   2.390600e+04  23906.000000  2.390600e+04\n",
              "mean    8.308403e+05  28090.247846  7.497741e+06\n",
              "std     7.200064e+05  14788.687608  8.674920e+05\n",
              "min     1.008000e+04   1200.000000  6.000101e+06\n",
              "25%     3.860000e+05  18001.000000  6.746495e+06\n",
              "50%     7.350000e+05  23000.000000  7.496198e+06\n",
              "75%     1.175750e+06  34000.000000  8.248146e+06\n",
              "max     1.120000e+07  85800.000000  8.999579e+06"
            ]
          },
          "execution_count": 7,
          "metadata": {},
          "output_type": "execute_result"
        }
      ],
      "source": [
        "dados.describe()"
      ]
    },
    {
      "cell_type": "code",
      "execution_count": 65,
      "metadata": {
        "colab": {
          "base_uri": "https://localhost:8080/",
          "height": 365
        },
        "id": "DR3_h6OkLq-W",
        "outputId": "2e05d493-874d-43b7-82f1-7abb68494896"
      },
      "outputs": [
        {
          "data": {
            "text/html": [
              "<div>\n",
              "<style scoped>\n",
              "    .dataframe tbody tr th:only-of-type {\n",
              "        vertical-align: middle;\n",
              "    }\n",
              "\n",
              "    .dataframe tbody tr th {\n",
              "        vertical-align: top;\n",
              "    }\n",
              "\n",
              "    .dataframe thead th {\n",
              "        text-align: right;\n",
              "    }\n",
              "</style>\n",
              "<table border=\"1\" class=\"dataframe\">\n",
              "  <thead>\n",
              "    <tr style=\"text-align: right;\">\n",
              "      <th></th>\n",
              "      <th>Date</th>\n",
              "      <th>Gender</th>\n",
              "      <th>Annual Income</th>\n",
              "      <th>Dealer_Name</th>\n",
              "      <th>Company</th>\n",
              "      <th>Model</th>\n",
              "      <th>Engine</th>\n",
              "      <th>Transmission</th>\n",
              "      <th>Color</th>\n",
              "      <th>Price ($)</th>\n",
              "      <th>Body Style</th>\n",
              "      <th>Dealer_Region</th>\n",
              "    </tr>\n",
              "  </thead>\n",
              "  <tbody>\n",
              "    <tr>\n",
              "      <th>0</th>\n",
              "      <td>1/2/2022</td>\n",
              "      <td>Male</td>\n",
              "      <td>13500</td>\n",
              "      <td>Buddy Storbeck's Diesel Service Inc</td>\n",
              "      <td>Ford</td>\n",
              "      <td>Expedition</td>\n",
              "      <td>DoubleÂ Overhead Camshaft</td>\n",
              "      <td>Auto</td>\n",
              "      <td>Black</td>\n",
              "      <td>26000</td>\n",
              "      <td>SUV</td>\n",
              "      <td>Middletown</td>\n",
              "    </tr>\n",
              "    <tr>\n",
              "      <th>1</th>\n",
              "      <td>1/2/2022</td>\n",
              "      <td>Male</td>\n",
              "      <td>1480000</td>\n",
              "      <td>C &amp; M Motors Inc</td>\n",
              "      <td>Dodge</td>\n",
              "      <td>Durango</td>\n",
              "      <td>DoubleÂ Overhead Camshaft</td>\n",
              "      <td>Auto</td>\n",
              "      <td>Black</td>\n",
              "      <td>19000</td>\n",
              "      <td>SUV</td>\n",
              "      <td>Aurora</td>\n",
              "    </tr>\n",
              "    <tr>\n",
              "      <th>2</th>\n",
              "      <td>1/2/2022</td>\n",
              "      <td>Male</td>\n",
              "      <td>1035000</td>\n",
              "      <td>Capitol KIA</td>\n",
              "      <td>Cadillac</td>\n",
              "      <td>Eldorado</td>\n",
              "      <td>Overhead Camshaft</td>\n",
              "      <td>Manual</td>\n",
              "      <td>Red</td>\n",
              "      <td>31500</td>\n",
              "      <td>Passenger</td>\n",
              "      <td>Greenville</td>\n",
              "    </tr>\n",
              "    <tr>\n",
              "      <th>3</th>\n",
              "      <td>1/2/2022</td>\n",
              "      <td>Male</td>\n",
              "      <td>13500</td>\n",
              "      <td>Chrysler of Tri-Cities</td>\n",
              "      <td>Toyota</td>\n",
              "      <td>Celica</td>\n",
              "      <td>Overhead Camshaft</td>\n",
              "      <td>Manual</td>\n",
              "      <td>Pale White</td>\n",
              "      <td>14000</td>\n",
              "      <td>SUV</td>\n",
              "      <td>Pasco</td>\n",
              "    </tr>\n",
              "    <tr>\n",
              "      <th>4</th>\n",
              "      <td>1/2/2022</td>\n",
              "      <td>Male</td>\n",
              "      <td>1465000</td>\n",
              "      <td>Chrysler Plymouth</td>\n",
              "      <td>Acura</td>\n",
              "      <td>TL</td>\n",
              "      <td>DoubleÂ Overhead Camshaft</td>\n",
              "      <td>Auto</td>\n",
              "      <td>Red</td>\n",
              "      <td>24500</td>\n",
              "      <td>Hatchback</td>\n",
              "      <td>Janesville</td>\n",
              "    </tr>\n",
              "  </tbody>\n",
              "</table>\n",
              "</div>"
            ],
            "text/plain": [
              "       Date Gender  Annual Income                          Dealer_Name  \\\n",
              "0  1/2/2022   Male          13500  Buddy Storbeck's Diesel Service Inc   \n",
              "1  1/2/2022   Male        1480000                     C & M Motors Inc   \n",
              "2  1/2/2022   Male        1035000                          Capitol KIA   \n",
              "3  1/2/2022   Male          13500               Chrysler of Tri-Cities   \n",
              "4  1/2/2022   Male        1465000                    Chrysler Plymouth   \n",
              "\n",
              "    Company       Model                     Engine Transmission       Color  \\\n",
              "0      Ford  Expedition  DoubleÂ Overhead Camshaft         Auto       Black   \n",
              "1     Dodge     Durango  DoubleÂ Overhead Camshaft         Auto       Black   \n",
              "2  Cadillac    Eldorado          Overhead Camshaft       Manual         Red   \n",
              "3    Toyota      Celica          Overhead Camshaft       Manual  Pale White   \n",
              "4     Acura          TL  DoubleÂ Overhead Camshaft         Auto         Red   \n",
              "\n",
              "   Price ($) Body Style Dealer_Region  \n",
              "0      26000        SUV    Middletown  \n",
              "1      19000        SUV        Aurora  \n",
              "2      31500  Passenger    Greenville  \n",
              "3      14000        SUV         Pasco  \n",
              "4      24500  Hatchback    Janesville  "
            ]
          },
          "execution_count": 65,
          "metadata": {},
          "output_type": "execute_result"
        }
      ],
      "source": [
        "dados = dados.drop(columns = ['Car_id', 'Customer Name', 'Dealer_No ', 'Phone'], axis = 1)\n",
        "dados.head()"
      ]
    },
    {
      "cell_type": "code",
      "execution_count": 25,
      "metadata": {
        "colab": {
          "base_uri": "https://localhost:8080/"
        },
        "id": "Ds2-AUjeRswF",
        "outputId": "45514eef-774b-496a-82ce-e4a3afe2e475"
      },
      "outputs": [
        {
          "data": {
            "text/plain": [
              "Index(['Date', 'Gender', 'Annual Income', 'Dealer_Name', 'Company', 'Model',\n",
              "       'Engine', 'Transmission', 'Color', 'Price ($)', 'Body Style',\n",
              "       'Dealer_Region'],\n",
              "      dtype='object')"
            ]
          },
          "execution_count": 25,
          "metadata": {},
          "output_type": "execute_result"
        }
      ],
      "source": [
        "dados.columns"
      ]
    },
    {
      "cell_type": "code",
      "execution_count": 26,
      "metadata": {},
      "outputs": [
        {
          "name": "stdout",
          "output_type": "stream",
          "text": [
            "<class 'pandas.core.frame.DataFrame'>\n",
            "RangeIndex: 23906 entries, 0 to 23905\n",
            "Data columns (total 12 columns):\n",
            " #   Column         Non-Null Count  Dtype         \n",
            "---  ------         --------------  -----         \n",
            " 0   Date           23906 non-null  datetime64[ns]\n",
            " 1   Gender         23906 non-null  object        \n",
            " 2   Annual Income  23906 non-null  int64         \n",
            " 3   Dealer_Name    23906 non-null  object        \n",
            " 4   Company        23906 non-null  object        \n",
            " 5   Model          23906 non-null  object        \n",
            " 6   Engine         23906 non-null  object        \n",
            " 7   Transmission   23906 non-null  object        \n",
            " 8   Color          23906 non-null  object        \n",
            " 9   Price ($)      23906 non-null  int64         \n",
            " 10  Body Style     23906 non-null  object        \n",
            " 11  Dealer_Region  23906 non-null  object        \n",
            "dtypes: datetime64[ns](1), int64(2), object(9)\n",
            "memory usage: 2.2+ MB\n"
          ]
        }
      ],
      "source": [
        "dados['Date'] = pd.to_datetime(dados['Date'])\n",
        "dados.info()"
      ]
    },
    {
      "cell_type": "markdown",
      "metadata": {},
      "source": [
        "**1. Análise de Vendas por Região do Revendedor:** Você pode agrupar os dados pelo \"Dealer_Region\" e analisar as vendas totais ou médias em cada região."
      ]
    },
    {
      "cell_type": "code",
      "execution_count": 27,
      "metadata": {
        "id": "haBVS2kZQevC"
      },
      "outputs": [
        {
          "data": {
            "text/html": [
              "<div>\n",
              "<style scoped>\n",
              "    .dataframe tbody tr th:only-of-type {\n",
              "        vertical-align: middle;\n",
              "    }\n",
              "\n",
              "    .dataframe tbody tr th {\n",
              "        vertical-align: top;\n",
              "    }\n",
              "\n",
              "    .dataframe thead th {\n",
              "        text-align: right;\n",
              "    }\n",
              "</style>\n",
              "<table border=\"1\" class=\"dataframe\">\n",
              "  <thead>\n",
              "    <tr style=\"text-align: right;\">\n",
              "      <th></th>\n",
              "      <th>sum</th>\n",
              "      <th>mean</th>\n",
              "    </tr>\n",
              "    <tr>\n",
              "      <th>Dealer_Region</th>\n",
              "      <th></th>\n",
              "      <th></th>\n",
              "    </tr>\n",
              "  </thead>\n",
              "  <tbody>\n",
              "    <tr>\n",
              "      <th>Aurora</th>\n",
              "      <td>88687382</td>\n",
              "      <td>28334.626837</td>\n",
              "    </tr>\n",
              "    <tr>\n",
              "      <th>Austin</th>\n",
              "      <td>117192531</td>\n",
              "      <td>28341.603628</td>\n",
              "    </tr>\n",
              "    <tr>\n",
              "      <th>Greenville</th>\n",
              "      <td>88149602</td>\n",
              "      <td>28180.819054</td>\n",
              "    </tr>\n",
              "    <tr>\n",
              "      <th>Janesville</th>\n",
              "      <td>106351234</td>\n",
              "      <td>27833.350955</td>\n",
              "    </tr>\n",
              "    <tr>\n",
              "      <th>Middletown</th>\n",
              "      <td>87134628</td>\n",
              "      <td>27856.338875</td>\n",
              "    </tr>\n",
              "    <tr>\n",
              "      <th>Pasco</th>\n",
              "      <td>88040714</td>\n",
              "      <td>28119.039923</td>\n",
              "    </tr>\n",
              "    <tr>\n",
              "      <th>Scottsdale</th>\n",
              "      <td>95969374</td>\n",
              "      <td>27954.958928</td>\n",
              "    </tr>\n",
              "  </tbody>\n",
              "</table>\n",
              "</div>"
            ],
            "text/plain": [
              "                     sum          mean\n",
              "Dealer_Region                         \n",
              "Aurora          88687382  28334.626837\n",
              "Austin         117192531  28341.603628\n",
              "Greenville      88149602  28180.819054\n",
              "Janesville     106351234  27833.350955\n",
              "Middletown      87134628  27856.338875\n",
              "Pasco           88040714  28119.039923\n",
              "Scottsdale      95969374  27954.958928"
            ]
          },
          "execution_count": 27,
          "metadata": {},
          "output_type": "execute_result"
        }
      ],
      "source": [
        "dados.groupby('Dealer_Region')['Price ($)'].agg(['sum', 'mean'])"
      ]
    },
    {
      "cell_type": "markdown",
      "metadata": {},
      "source": [
        "**2. Segmentação de Clientes por Gênero e Renda Anual:** Explore a distribuição de gênero entre os clientes e como ela se relaciona com a renda anual. Isso pode ajudar a identificar padrões de compra entre diferentes grupos demográficos."
      ]
    },
    {
      "cell_type": "code",
      "execution_count": 28,
      "metadata": {},
      "outputs": [
        {
          "data": {
            "text/html": [
              "<div>\n",
              "<style scoped>\n",
              "    .dataframe tbody tr th:only-of-type {\n",
              "        vertical-align: middle;\n",
              "    }\n",
              "\n",
              "    .dataframe tbody tr th {\n",
              "        vertical-align: top;\n",
              "    }\n",
              "\n",
              "    .dataframe thead tr th {\n",
              "        text-align: left;\n",
              "    }\n",
              "\n",
              "    .dataframe thead tr:last-of-type th {\n",
              "        text-align: right;\n",
              "    }\n",
              "</style>\n",
              "<table border=\"1\" class=\"dataframe\">\n",
              "  <thead>\n",
              "    <tr>\n",
              "      <th></th>\n",
              "      <th colspan=\"2\" halign=\"left\">Annual Income</th>\n",
              "    </tr>\n",
              "    <tr>\n",
              "      <th></th>\n",
              "      <th>count</th>\n",
              "      <th>mean</th>\n",
              "    </tr>\n",
              "    <tr>\n",
              "      <th>Gender</th>\n",
              "      <th></th>\n",
              "      <th></th>\n",
              "    </tr>\n",
              "  </thead>\n",
              "  <tbody>\n",
              "    <tr>\n",
              "      <th>Female</th>\n",
              "      <td>5108</td>\n",
              "      <td>755973.021339</td>\n",
              "    </tr>\n",
              "    <tr>\n",
              "      <th>Male</th>\n",
              "      <td>18798</td>\n",
              "      <td>851184.044207</td>\n",
              "    </tr>\n",
              "  </tbody>\n",
              "</table>\n",
              "</div>"
            ],
            "text/plain": [
              "       Annual Income               \n",
              "               count           mean\n",
              "Gender                             \n",
              "Female          5108  755973.021339\n",
              "Male           18798  851184.044207"
            ]
          },
          "execution_count": 28,
          "metadata": {},
          "output_type": "execute_result"
        }
      ],
      "source": [
        "dados.groupby('Gender')[['Annual Income']].agg(['count', 'mean'])"
      ]
    },
    {
      "cell_type": "markdown",
      "metadata": {},
      "source": [
        "**3. Preço Médio por Modelo de Carro:** Analise o preço médio de venda para cada modelo de carro. Isso pode ajudar a identificar quais modelos têm maior demanda ou valor de mercado."
      ]
    },
    {
      "cell_type": "code",
      "execution_count": 33,
      "metadata": {},
      "outputs": [
        {
          "data": {
            "text/plain": [
              "Model\n",
              "3-Sep      37986.380117\n",
              "3000GT     22282.250825\n",
              "300M       21394.888889\n",
              "323i       17355.634615\n",
              "328i       27821.359223\n",
              "4Runner    29233.017241\n",
              "5-Sep      30070.769231\n",
              "528i       29561.503086\n",
              "A4         19705.656863\n",
              "A6         22662.984802\n",
              "Name: Price ($), dtype: float64"
            ]
          },
          "execution_count": 33,
          "metadata": {},
          "output_type": "execute_result"
        }
      ],
      "source": [
        "# 10 modelos mais caros\n",
        "dados.groupby('Model')['Price ($)'].mean().head(10)"
      ]
    },
    {
      "cell_type": "markdown",
      "metadata": {},
      "source": [
        "**4. Distribuição de Cores de Carros Vendidos:** Determine as cores mais populares entre os carros vendidos. Isso pode ser útil para entender as preferências dos clientes em termos de estética."
      ]
    },
    {
      "cell_type": "code",
      "execution_count": 39,
      "metadata": {},
      "outputs": [
        {
          "data": {
            "text/plain": [
              "Color\n",
              "Pale White    11256\n",
              "Black          7857\n",
              "Red            4793\n",
              "Name: count, dtype: int64"
            ]
          },
          "execution_count": 39,
          "metadata": {},
          "output_type": "execute_result"
        }
      ],
      "source": [
        "dados['Color'].value_counts()"
      ]
    },
    {
      "cell_type": "markdown",
      "metadata": {},
      "source": [
        "**5. Análise Temporal de Vendas:** Explore padrões sazonais ou tendências ao longo do tempo analisando as vendas em relação à data."
      ]
    },
    {
      "cell_type": "code",
      "execution_count": null,
      "metadata": {},
      "outputs": [],
      "source": []
    },
    {
      "cell_type": "markdown",
      "metadata": {},
      "source": [
        "**6. Desempenho de Revendedores:** Compare o desempenho de diferentes revendedores em termos de número de vendas, receita gerada ou satisfação do cliente."
      ]
    },
    {
      "cell_type": "code",
      "execution_count": null,
      "metadata": {},
      "outputs": [],
      "source": []
    },
    {
      "cell_type": "markdown",
      "metadata": {},
      "source": [
        "**7. Análise de Correlação:** Explore se existe alguma correlação entre variáveis, como preço do carro e renda anual do cliente."
      ]
    },
    {
      "cell_type": "code",
      "execution_count": null,
      "metadata": {},
      "outputs": [],
      "source": []
    },
    {
      "cell_type": "markdown",
      "metadata": {},
      "source": [
        "**8. Distribuição de Estilos de Carro Vendidos:** Analise a distribuição dos estilos de carro vendidos (por exemplo, sedan, SUV, hatchback) para entender as preferências do mercado."
      ]
    },
    {
      "cell_type": "code",
      "execution_count": null,
      "metadata": {},
      "outputs": [],
      "source": []
    },
    {
      "cell_type": "markdown",
      "metadata": {},
      "source": [
        "**9. Análise de Engenharia e Transmissão por Modelo:** Veja se há alguma preferência específica de engenharia (por exemplo, motor de 4 cilindros, 6 cilindros) ou tipo de transmissão (automático, manual) para cada modelo de carro."
      ]
    },
    {
      "cell_type": "code",
      "execution_count": null,
      "metadata": {},
      "outputs": [],
      "source": []
    },
    {
      "cell_type": "markdown",
      "metadata": {},
      "source": [
        "**10. Análise de Satisfação do Cliente:** Explore a relação entre o nome do cliente, o revendedor e possivelmente outras variáveis para entender os níveis de satisfação do cliente e identificar áreas para melhoria."
      ]
    },
    {
      "cell_type": "code",
      "execution_count": null,
      "metadata": {},
      "outputs": [],
      "source": []
    },
    {
      "cell_type": "markdown",
      "metadata": {},
      "source": [
        "**11. Análise de Distribuição de Idade dos Clientes:** Se houver informações sobre a idade dos clientes, você pode analisar a distribuição etária dos compradores de carros."
      ]
    },
    {
      "cell_type": "code",
      "execution_count": null,
      "metadata": {},
      "outputs": [],
      "source": []
    },
    {
      "cell_type": "markdown",
      "metadata": {},
      "source": [
        "**12. Variação de Preço por Cor e Estilo do Carro:** Analise se há variação de preço com base na cor ou estilo do carro. Isso pode ajudar a determinar se certas características têm impacto no valor de mercado."
      ]
    },
    {
      "cell_type": "code",
      "execution_count": null,
      "metadata": {},
      "outputs": [],
      "source": []
    },
    {
      "cell_type": "markdown",
      "metadata": {},
      "source": [
        "**13. Análise de Demanda por Região e Estilo do Carro:** Explore se a demanda por diferentes estilos de carro varia entre as regiões dos revendedores."
      ]
    },
    {
      "cell_type": "code",
      "execution_count": null,
      "metadata": {},
      "outputs": [],
      "source": []
    },
    {
      "cell_type": "markdown",
      "metadata": {},
      "source": [
        "**14. Análise de Desempenho do Modelo de Carro ao Longo do Tempo:** Analise como o desempenho de vendas de um determinado modelo de carro evolui ao longo do tempo desde o seu lançamento.\n"
      ]
    },
    {
      "cell_type": "code",
      "execution_count": null,
      "metadata": {},
      "outputs": [],
      "source": []
    },
    {
      "cell_type": "markdown",
      "metadata": {},
      "source": [
        "**16. Análise de Sazonalidade nas Vendas de Carros:** Identifique padrões sazonais nas vendas de carros, como picos de vendas durante determinadas épocas do ano.\n"
      ]
    },
    {
      "cell_type": "code",
      "execution_count": null,
      "metadata": {},
      "outputs": [],
      "source": []
    },
    {
      "cell_type": "markdown",
      "metadata": {},
      "source": [
        "**17. Análise de Lucratividade por Modelo de Carro e Revendedor:** Determine quais modelos de carro e revendedores são mais lucrativos com base nas margens de lucro.\n"
      ]
    },
    {
      "cell_type": "code",
      "execution_count": 94,
      "metadata": {},
      "outputs": [
        {
          "data": {
            "text/html": [
              "<div>\n",
              "<style scoped>\n",
              "    .dataframe tbody tr th:only-of-type {\n",
              "        vertical-align: middle;\n",
              "    }\n",
              "\n",
              "    .dataframe tbody tr th {\n",
              "        vertical-align: top;\n",
              "    }\n",
              "\n",
              "    .dataframe thead th {\n",
              "        text-align: right;\n",
              "    }\n",
              "</style>\n",
              "<table border=\"1\" class=\"dataframe\">\n",
              "  <thead>\n",
              "    <tr style=\"text-align: right;\">\n",
              "      <th></th>\n",
              "      <th>Price ($)</th>\n",
              "      <th>Model</th>\n",
              "      <th>Dealer_Name</th>\n",
              "    </tr>\n",
              "  </thead>\n",
              "  <tbody>\n",
              "    <tr>\n",
              "      <th>7068</th>\n",
              "      <td>85800</td>\n",
              "      <td>Eldorado</td>\n",
              "      <td>Star Enterprises Inc</td>\n",
              "    </tr>\n",
              "    <tr>\n",
              "      <th>17129</th>\n",
              "      <td>85601</td>\n",
              "      <td>Eldorado</td>\n",
              "      <td>Rabun Used Car Sales</td>\n",
              "    </tr>\n",
              "    <tr>\n",
              "      <th>13605</th>\n",
              "      <td>85600</td>\n",
              "      <td>Eldorado</td>\n",
              "      <td>Hatfield Volkswagen</td>\n",
              "    </tr>\n",
              "    <tr>\n",
              "      <th>358</th>\n",
              "      <td>85600</td>\n",
              "      <td>RAV4</td>\n",
              "      <td>Star Enterprises Inc</td>\n",
              "    </tr>\n",
              "    <tr>\n",
              "      <th>9228</th>\n",
              "      <td>85500</td>\n",
              "      <td>A6</td>\n",
              "      <td>Hatfield Volkswagen</td>\n",
              "    </tr>\n",
              "    <tr>\n",
              "      <th>...</th>\n",
              "      <td>...</td>\n",
              "      <td>...</td>\n",
              "      <td>...</td>\n",
              "    </tr>\n",
              "    <tr>\n",
              "      <th>13949</th>\n",
              "      <td>4200</td>\n",
              "      <td>Explorer</td>\n",
              "      <td>McKinney Dodge Chrysler Jeep</td>\n",
              "    </tr>\n",
              "    <tr>\n",
              "      <th>14020</th>\n",
              "      <td>2200</td>\n",
              "      <td>CL500</td>\n",
              "      <td>Ryder Truck Rental and Leasing</td>\n",
              "    </tr>\n",
              "    <tr>\n",
              "      <th>14010</th>\n",
              "      <td>1700</td>\n",
              "      <td>Town car</td>\n",
              "      <td>Ryder Truck Rental and Leasing</td>\n",
              "    </tr>\n",
              "    <tr>\n",
              "      <th>13996</th>\n",
              "      <td>1450</td>\n",
              "      <td>S-Class</td>\n",
              "      <td>Rabun Used Car Sales</td>\n",
              "    </tr>\n",
              "    <tr>\n",
              "      <th>13946</th>\n",
              "      <td>1200</td>\n",
              "      <td>Taurus</td>\n",
              "      <td>Gartner Buick Hyundai Saab</td>\n",
              "    </tr>\n",
              "  </tbody>\n",
              "</table>\n",
              "<p>23906 rows × 3 columns</p>\n",
              "</div>"
            ],
            "text/plain": [
              "       Price ($)     Model                     Dealer_Name\n",
              "7068       85800  Eldorado            Star Enterprises Inc\n",
              "17129      85601  Eldorado            Rabun Used Car Sales\n",
              "13605      85600  Eldorado             Hatfield Volkswagen\n",
              "358        85600      RAV4            Star Enterprises Inc\n",
              "9228       85500        A6             Hatfield Volkswagen\n",
              "...          ...       ...                             ...\n",
              "13949       4200  Explorer    McKinney Dodge Chrysler Jeep\n",
              "14020       2200     CL500  Ryder Truck Rental and Leasing\n",
              "14010       1700  Town car  Ryder Truck Rental and Leasing\n",
              "13996       1450   S-Class            Rabun Used Car Sales\n",
              "13946       1200    Taurus      Gartner Buick Hyundai Saab\n",
              "\n",
              "[23906 rows x 3 columns]"
            ]
          },
          "execution_count": 94,
          "metadata": {},
          "output_type": "execute_result"
        }
      ],
      "source": [
        "lucratividade_marca = dados[['Price ($)', 'Model', 'Dealer_Name']].sort_values(by='Price ($)', ascending=False)\n",
        "lucratividade_marca"
      ]
    },
    {
      "cell_type": "code",
      "execution_count": 99,
      "metadata": {},
      "outputs": [
        {
          "data": {
            "text/plain": [
              "Model\n",
              "LS400            14263424\n",
              "Jetta            12287736\n",
              "Silhouette       12271849\n",
              "Montero Sport    11472231\n",
              "Ram Pickup       10655391\n",
              "Eldorado          9725407\n",
              "528i              9577927\n",
              "Prizm             9386606\n",
              "Diamante          9308151\n",
              "LHS               9097717\n",
              "Name: Price ($), dtype: int64"
            ]
          },
          "execution_count": 99,
          "metadata": {},
          "output_type": "execute_result"
        }
      ],
      "source": [
        "# Modelos de carros mais lucrativos\n",
        "\n",
        "carro_lucrativos = lucratividade_marca.groupby('Model')['Price ($)'].sum().sort_values(ascending=False)\n",
        "\n",
        "carro_lucrativos.head(10)"
      ]
    },
    {
      "cell_type": "code",
      "execution_count": 101,
      "metadata": {},
      "outputs": [
        {
          "data": {
            "text/plain": [
              "Dealer_Name\n",
              "Rabun Used Car Sales                               37456655\n",
              "Progressive Shippers Cooperative Association No    36751460\n",
              "U-Haul CO                                          35876089\n",
              "Race Car Help                                      35288706\n",
              "Saab-Belle Dodge                                   35265865\n",
              "Scrivener Performance Engineering                  35258525\n",
              "Star Enterprises Inc                               35113206\n",
              "Tri-State Mack Inc                                 35091357\n",
              "Suburban Ford                                      34943473\n",
              "Ryder Truck Rental and Leasing                     34837906\n",
              "Name: Price ($), dtype: int64"
            ]
          },
          "execution_count": 101,
          "metadata": {},
          "output_type": "execute_result"
        }
      ],
      "source": [
        "# Revendedores mais lucrativos\n",
        "\n",
        "revendedor_lucrativos = lucratividade_marca.groupby('Dealer_Name')['Price ($)'].sum().sort_values(ascending=False)\n",
        "\n",
        "revendedor_lucrativos.head(10)"
      ]
    },
    {
      "cell_type": "markdown",
      "metadata": {},
      "source": [
        "**18. Análise de Preferências de Transmissão por Gênero:** Explore se há diferenças nas preferências de transmissão entre clientes de diferentes gêneros."
      ]
    },
    {
      "cell_type": "code",
      "execution_count": 87,
      "metadata": {},
      "outputs": [
        {
          "data": {
            "text/plain": [
              "<Axes: xlabel='Gender', ylabel='None'>"
            ]
          },
          "execution_count": 87,
          "metadata": {},
          "output_type": "execute_result"
        },
        {
          "data": {
            "image/png": "[encoded data removed]",
            "text/plain": [
              "<Figure size 640x480 with 1 Axes>"
            ]
          },
          "metadata": {},
          "output_type": "display_data"
        }
      ],
      "source": [
        "# Tiramos a conclusão que nesse dataset, a transmissão não é um fator determinante na hora da compra, mas o Manual segue maior para ambos.\n",
        "sns.barplot(data=dados, x=dados['Gender'], y=dados.index, hue='Transmission', width=0.2)\n"
      ]
    },
    {
      "cell_type": "code",
      "execution_count": 49,
      "metadata": {},
      "outputs": [
        {
          "data": {
            "text/plain": [
              "Gender  Transmission\n",
              "Male    Auto            9872\n",
              "        Manual          8926\n",
              "Female  Auto            2699\n",
              "        Manual          2409\n",
              "Name: count, dtype: int64"
            ]
          },
          "execution_count": 49,
          "metadata": {},
          "output_type": "execute_result"
        }
      ],
      "source": [
        "dados[['Gender', 'Transmission']].value_counts()"
      ]
    },
    {
      "cell_type": "markdown",
      "metadata": {},
      "source": [
        "**20. Análise de Correlação entre Características do Carro e Preço:** Investigação de possíveis correlações entre características específicas do carro, como tamanho do motor, tipo de transmissão ou cor, e o preço de venda."
      ]
    },
    {
      "cell_type": "code",
      "execution_count": 6,
      "metadata": {},
      "outputs": [
        {
          "data": {
            "text/html": [
              "<div>\n",
              "<style scoped>\n",
              "    .dataframe tbody tr th:only-of-type {\n",
              "        vertical-align: middle;\n",
              "    }\n",
              "\n",
              "    .dataframe tbody tr th {\n",
              "        vertical-align: top;\n",
              "    }\n",
              "\n",
              "    .dataframe thead th {\n",
              "        text-align: right;\n",
              "    }\n",
              "</style>\n",
              "<table border=\"1\" class=\"dataframe\">\n",
              "  <thead>\n",
              "    <tr style=\"text-align: right;\">\n",
              "      <th></th>\n",
              "      <th>Date</th>\n",
              "      <th>Gender</th>\n",
              "      <th>Annual Income</th>\n",
              "      <th>Dealer_Name</th>\n",
              "      <th>Company</th>\n",
              "      <th>Model</th>\n",
              "      <th>Engine</th>\n",
              "      <th>Transmission</th>\n",
              "      <th>Color</th>\n",
              "      <th>Price ($)</th>\n",
              "      <th>Body Style</th>\n",
              "      <th>Dealer_Region</th>\n",
              "    </tr>\n",
              "  </thead>\n",
              "  <tbody>\n",
              "    <tr>\n",
              "      <th>0</th>\n",
              "      <td>1/2/2022</td>\n",
              "      <td>Male</td>\n",
              "      <td>13500</td>\n",
              "      <td>Buddy Storbeck's Diesel Service Inc</td>\n",
              "      <td>Ford</td>\n",
              "      <td>Expedition</td>\n",
              "      <td>DoubleÂ Overhead Camshaft</td>\n",
              "      <td>Auto</td>\n",
              "      <td>Black</td>\n",
              "      <td>26000</td>\n",
              "      <td>SUV</td>\n",
              "      <td>Middletown</td>\n",
              "    </tr>\n",
              "    <tr>\n",
              "      <th>1</th>\n",
              "      <td>1/2/2022</td>\n",
              "      <td>Male</td>\n",
              "      <td>1480000</td>\n",
              "      <td>C &amp; M Motors Inc</td>\n",
              "      <td>Dodge</td>\n",
              "      <td>Durango</td>\n",
              "      <td>DoubleÂ Overhead Camshaft</td>\n",
              "      <td>Auto</td>\n",
              "      <td>Black</td>\n",
              "      <td>19000</td>\n",
              "      <td>SUV</td>\n",
              "      <td>Aurora</td>\n",
              "    </tr>\n",
              "    <tr>\n",
              "      <th>2</th>\n",
              "      <td>1/2/2022</td>\n",
              "      <td>Male</td>\n",
              "      <td>1035000</td>\n",
              "      <td>Capitol KIA</td>\n",
              "      <td>Cadillac</td>\n",
              "      <td>Eldorado</td>\n",
              "      <td>Overhead Camshaft</td>\n",
              "      <td>Manual</td>\n",
              "      <td>Red</td>\n",
              "      <td>31500</td>\n",
              "      <td>Passenger</td>\n",
              "      <td>Greenville</td>\n",
              "    </tr>\n",
              "    <tr>\n",
              "      <th>3</th>\n",
              "      <td>1/2/2022</td>\n",
              "      <td>Male</td>\n",
              "      <td>13500</td>\n",
              "      <td>Chrysler of Tri-Cities</td>\n",
              "      <td>Toyota</td>\n",
              "      <td>Celica</td>\n",
              "      <td>Overhead Camshaft</td>\n",
              "      <td>Manual</td>\n",
              "      <td>Pale White</td>\n",
              "      <td>14000</td>\n",
              "      <td>SUV</td>\n",
              "      <td>Pasco</td>\n",
              "    </tr>\n",
              "    <tr>\n",
              "      <th>4</th>\n",
              "      <td>1/2/2022</td>\n",
              "      <td>Male</td>\n",
              "      <td>1465000</td>\n",
              "      <td>Chrysler Plymouth</td>\n",
              "      <td>Acura</td>\n",
              "      <td>TL</td>\n",
              "      <td>DoubleÂ Overhead Camshaft</td>\n",
              "      <td>Auto</td>\n",
              "      <td>Red</td>\n",
              "      <td>24500</td>\n",
              "      <td>Hatchback</td>\n",
              "      <td>Janesville</td>\n",
              "    </tr>\n",
              "  </tbody>\n",
              "</table>\n",
              "</div>"
            ],
            "text/plain": [
              "       Date Gender  Annual Income                          Dealer_Name  \\\n",
              "0  1/2/2022   Male          13500  Buddy Storbeck's Diesel Service Inc   \n",
              "1  1/2/2022   Male        1480000                     C & M Motors Inc   \n",
              "2  1/2/2022   Male        1035000                          Capitol KIA   \n",
              "3  1/2/2022   Male          13500               Chrysler of Tri-Cities   \n",
              "4  1/2/2022   Male        1465000                    Chrysler Plymouth   \n",
              "\n",
              "    Company       Model                     Engine Transmission       Color  \\\n",
              "0      Ford  Expedition  DoubleÂ Overhead Camshaft         Auto       Black   \n",
              "1     Dodge     Durango  DoubleÂ Overhead Camshaft         Auto       Black   \n",
              "2  Cadillac    Eldorado          Overhead Camshaft       Manual         Red   \n",
              "3    Toyota      Celica          Overhead Camshaft       Manual  Pale White   \n",
              "4     Acura          TL  DoubleÂ Overhead Camshaft         Auto         Red   \n",
              "\n",
              "   Price ($) Body Style Dealer_Region  \n",
              "0      26000        SUV    Middletown  \n",
              "1      19000        SUV        Aurora  \n",
              "2      31500  Passenger    Greenville  \n",
              "3      14000        SUV         Pasco  \n",
              "4      24500  Hatchback    Janesville  "
            ]
          },
          "execution_count": 6,
          "metadata": {},
          "output_type": "execute_result"
        }
      ],
      "source": [
        "dados.head()"
      ]
    },
    {
      "cell_type": "code",
      "execution_count": 28,
      "metadata": {},
      "outputs": [],
      "source": [
        "caracteristicas_preco = dados[['Price ($)', 'Color', 'Transmission', 'Body Style']]"
      ]
    },
    {
      "cell_type": "code",
      "execution_count": 29,
      "metadata": {},
      "outputs": [
        {
          "data": {
            "text/html": [
              "<div>\n",
              "<style scoped>\n",
              "    .dataframe tbody tr th:only-of-type {\n",
              "        vertical-align: middle;\n",
              "    }\n",
              "\n",
              "    .dataframe tbody tr th {\n",
              "        vertical-align: top;\n",
              "    }\n",
              "\n",
              "    .dataframe thead th {\n",
              "        text-align: right;\n",
              "    }\n",
              "</style>\n",
              "<table border=\"1\" class=\"dataframe\">\n",
              "  <thead>\n",
              "    <tr style=\"text-align: right;\">\n",
              "      <th></th>\n",
              "      <th>Price ($)</th>\n",
              "      <th>Color</th>\n",
              "      <th>Engine</th>\n",
              "      <th>Transmission</th>\n",
              "      <th>Body Style</th>\n",
              "    </tr>\n",
              "  </thead>\n",
              "  <tbody>\n",
              "    <tr>\n",
              "      <th>7068</th>\n",
              "      <td>85800</td>\n",
              "      <td>Black</td>\n",
              "      <td>Overhead Camshaft</td>\n",
              "      <td>Manual</td>\n",
              "      <td>Passenger</td>\n",
              "    </tr>\n",
              "    <tr>\n",
              "      <th>17129</th>\n",
              "      <td>85601</td>\n",
              "      <td>Black</td>\n",
              "      <td>Overhead Camshaft</td>\n",
              "      <td>Manual</td>\n",
              "      <td>Passenger</td>\n",
              "    </tr>\n",
              "    <tr>\n",
              "      <th>13605</th>\n",
              "      <td>85600</td>\n",
              "      <td>Black</td>\n",
              "      <td>Overhead Camshaft</td>\n",
              "      <td>Manual</td>\n",
              "      <td>Passenger</td>\n",
              "    </tr>\n",
              "    <tr>\n",
              "      <th>358</th>\n",
              "      <td>85600</td>\n",
              "      <td>Black</td>\n",
              "      <td>Overhead Camshaft</td>\n",
              "      <td>Manual</td>\n",
              "      <td>Hatchback</td>\n",
              "    </tr>\n",
              "    <tr>\n",
              "      <th>9228</th>\n",
              "      <td>85500</td>\n",
              "      <td>Black</td>\n",
              "      <td>Overhead Camshaft</td>\n",
              "      <td>Manual</td>\n",
              "      <td>SUV</td>\n",
              "    </tr>\n",
              "    <tr>\n",
              "      <th>...</th>\n",
              "      <td>...</td>\n",
              "      <td>...</td>\n",
              "      <td>...</td>\n",
              "      <td>...</td>\n",
              "      <td>...</td>\n",
              "    </tr>\n",
              "    <tr>\n",
              "      <th>13949</th>\n",
              "      <td>4200</td>\n",
              "      <td>Pale White</td>\n",
              "      <td>DoubleÂ Overhead Camshaft</td>\n",
              "      <td>Auto</td>\n",
              "      <td>Hatchback</td>\n",
              "    </tr>\n",
              "    <tr>\n",
              "      <th>14020</th>\n",
              "      <td>2200</td>\n",
              "      <td>Black</td>\n",
              "      <td>Overhead Camshaft</td>\n",
              "      <td>Manual</td>\n",
              "      <td>SUV</td>\n",
              "    </tr>\n",
              "    <tr>\n",
              "      <th>14010</th>\n",
              "      <td>1700</td>\n",
              "      <td>Black</td>\n",
              "      <td>Overhead Camshaft</td>\n",
              "      <td>Manual</td>\n",
              "      <td>Hatchback</td>\n",
              "    </tr>\n",
              "    <tr>\n",
              "      <th>13996</th>\n",
              "      <td>1450</td>\n",
              "      <td>Red</td>\n",
              "      <td>DoubleÂ Overhead Camshaft</td>\n",
              "      <td>Auto</td>\n",
              "      <td>SUV</td>\n",
              "    </tr>\n",
              "    <tr>\n",
              "      <th>13946</th>\n",
              "      <td>1200</td>\n",
              "      <td>Black</td>\n",
              "      <td>DoubleÂ Overhead Camshaft</td>\n",
              "      <td>Auto</td>\n",
              "      <td>SUV</td>\n",
              "    </tr>\n",
              "  </tbody>\n",
              "</table>\n",
              "<p>23906 rows × 5 columns</p>\n",
              "</div>"
            ],
            "text/plain": [
              "       Price ($)       Color                     Engine Transmission  \\\n",
              "7068       85800       Black          Overhead Camshaft       Manual   \n",
              "17129      85601       Black          Overhead Camshaft       Manual   \n",
              "13605      85600       Black          Overhead Camshaft       Manual   \n",
              "358        85600       Black          Overhead Camshaft       Manual   \n",
              "9228       85500       Black          Overhead Camshaft       Manual   \n",
              "...          ...         ...                        ...          ...   \n",
              "13949       4200  Pale White  DoubleÂ Overhead Camshaft         Auto   \n",
              "14020       2200       Black          Overhead Camshaft       Manual   \n",
              "14010       1700       Black          Overhead Camshaft       Manual   \n",
              "13996       1450         Red  DoubleÂ Overhead Camshaft         Auto   \n",
              "13946       1200       Black  DoubleÂ Overhead Camshaft         Auto   \n",
              "\n",
              "      Body Style  \n",
              "7068   Passenger  \n",
              "17129  Passenger  \n",
              "13605  Passenger  \n",
              "358    Hatchback  \n",
              "9228         SUV  \n",
              "...          ...  \n",
              "13949  Hatchback  \n",
              "14020        SUV  \n",
              "14010  Hatchback  \n",
              "13996        SUV  \n",
              "13946        SUV  \n",
              "\n",
              "[23906 rows x 5 columns]"
            ]
          },
          "execution_count": 29,
          "metadata": {},
          "output_type": "execute_result"
        }
      ],
      "source": [
        "caracteristicas_preco.sort_values(by='Price ($)', ascending=False)"
      ]
    },
    {
      "cell_type": "code",
      "execution_count": 31,
      "metadata": {},
      "outputs": [
        {
          "data": {
            "text/plain": [
              "Color\n",
              "Pale White    11256\n",
              "Black          7857\n",
              "Red            4793\n",
              "Name: count, dtype: int64"
            ]
          },
          "execution_count": 31,
          "metadata": {},
          "output_type": "execute_result"
        }
      ],
      "source": [
        "caracteristicas_preco['Color'].value_counts()"
      ]
    },
    {
      "cell_type": "code",
      "execution_count": 50,
      "metadata": {},
      "outputs": [
        {
          "data": {
            "text/plain": [
              "<Axes: xlabel='Body Style', ylabel='Price ($)'>"
            ]
          },
          "execution_count": 50,
          "metadata": {},
          "output_type": "execute_result"
        },
        {
          "data": {
            "image/png": "[encoded data removed]",
            "text/plain": [
              "<Figure size 640x480 with 1 Axes>"
            ]
          },
          "metadata": {},
          "output_type": "display_data"
        }
      ],
      "source": [
        "sns.barplot(data=caracteristicas_preco, x='Body Style', y='Price ($)')"
      ]
    },
    {
      "cell_type": "code",
      "execution_count": 40,
      "metadata": {},
      "outputs": [
        {
          "data": {
            "image/png": "[encoded data removed]",
            "text/plain": [
              "<Figure size 640x480 with 1 Axes>"
            ]
          },
          "metadata": {},
          "output_type": "display_data"
        }
      ],
      "source": [
        "plt.scatter(caracteristicas_preco['Transmission'], caracteristicas_preco['Price ($)'])\n",
        "plt.xlabel('Transmission')\n",
        "plt.ylabel('Price ($)')\n",
        "plt.title('Relação entre Transmission e Preço')\n",
        "plt.show()\n"
      ]
    },
    {
      "cell_type": "code",
      "execution_count": null,
      "metadata": {},
      "outputs": [],
      "source": []
    }
  ],
  "metadata": {
    "colab": {
      "provenance": []
    },
    "kernelspec": {
      "display_name": "Python 3",
      "name": "python3"
    },
    "language_info": {
      "codemirror_mode": {
        "name": "ipython",
        "version": 3
      },
      "file_extension": ".py",
      "mimetype": "text/x-python",
      "name": "python",
      "nbconvert_exporter": "python",
      "pygments_lexer": "ipython3",
      "version": "3.11.3"
    }
  },
  "nbformat": 4,
  "nbformat_minor": 0
}
